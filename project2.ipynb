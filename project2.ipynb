{
 "cells": [
  {
   "cell_type": "markdown",
   "metadata": {},
   "source": [
    "# Project 2: Adversarial Search in AI \n",
    "## Applying Kalman Filters for Airplane Tracking "
   ]
  },
  {
   "cell_type": "markdown",
   "metadata": {},
   "source": [
    "# Import Statements"
   ]
  },
  {
   "cell_type": "code",
   "execution_count": null,
   "metadata": {},
   "outputs": [],
   "source": [
    "from project2_base import *\n",
    "import random\n",
    "import numpy as np\n",
    "import pandas as pd\n",
    "import matplotlib.pyplot as plt\n",
    "import matplotlib.dates as mdates\n",
    "from matplotlib.ticker import AutoMinorLocator\n",
    "import seaborn as sns\n",
    "import traffic\n",
    "from pykalman import KalmanFilter\n",
    "from datetime import timedelta\n",
    "from geopy import distance as dist\n",
    "from geopy.distance import geodesic\n",
    "from copy import deepcopy"
   ]
  },
  {
   "cell_type": "markdown",
   "metadata": {},
   "source": [
    "# Data Loading and Initial Exploration"
   ]
  },
  {
   "cell_type": "code",
   "execution_count": null,
   "metadata": {},
   "outputs": [],
   "source": [
    "# Load the data\n",
    "datas = get_ground_truth_data()\n",
    "print(datas)\n",
    "print(type(datas))\n",
    "\n",
    "# Extract a list of flight IDs and store it as a variable called flight_ids\n",
    "flight_ids = list(datas.keys())\n",
    "print(flight_ids)\n",
    "\n",
    "# Extract a list of tuples with (flight_id, flight_data)\n",
    "flights_info = [(flight_id, flight_data) for flight_id, flight_data in datas.items()]\n",
    "print(flights_info)"
   ]
  },
  {
   "cell_type": "markdown",
   "metadata": {},
   "source": [
    "### Analyse the first flight  "
   ]
  },
  {
   "cell_type": "code",
   "execution_count": null,
   "metadata": {},
   "outputs": [],
   "source": [
    "datas[\"IGRAD_000\"]\n",
    "print (type(datas[\"IGRAD_000\"]))"
   ]
  },
  {
   "cell_type": "code",
   "execution_count": null,
   "metadata": {},
   "outputs": [],
   "source": [
    "dict(datas[\"IGRAD_000\"])"
   ]
  },
  {
   "cell_type": "code",
   "execution_count": null,
   "metadata": {},
   "outputs": [],
   "source": [
    "datas[\"IGRAD_000\"].data"
   ]
  },
  {
   "cell_type": "code",
   "execution_count": null,
   "metadata": {},
   "outputs": [],
   "source": [
    "print(type(datas[\"IGRAD_000\"].data))"
   ]
  },
  {
   "cell_type": "code",
   "execution_count": null,
   "metadata": {},
   "outputs": [],
   "source": [
    "datas[\"IGRAD_000\"].between(\"2020-04-15 07:00\", \"2020-04-15 12:00\")"
   ]
  },
  {
   "cell_type": "code",
   "execution_count": null,
   "metadata": {},
   "outputs": [],
   "source": [
    "datas[\"IGRAD_000\"].between(\"2020-04-15 07:00\", \"2020-04-15 12:00\").data"
   ]
  },
  {
   "cell_type": "markdown",
   "metadata": {},
   "source": [
    "# Data Analysis"
   ]
  },
  {
   "cell_type": "markdown",
   "metadata": {},
   "source": [
    "### Helper functions to calculate duration of flight, altitude, and flight complexity\n"
   ]
  },
  {
   "cell_type": "code",
   "execution_count": null,
   "metadata": {},
   "outputs": [],
   "source": [
    "def calculate_duration(flight_data):\n",
    "    \"\"\"\n",
    "    Calculates the duration of the flight\n",
    "    \n",
    "    Args:\n",
    "        flight_data (pandas.DataFrame): The flight data containing 'timestamp' column.\n",
    "    \n",
    "    Returns:\n",
    "        pandas.Timedelta: The duration of the flight.\n",
    "    \"\"\"\n",
    "    duration = flight_data['timestamp'].max() - flight_data['timestamp'].min()\n",
    "    return duration"
   ]
  },
  {
   "cell_type": "code",
   "execution_count": null,
   "metadata": {},
   "outputs": [],
   "source": [
    "def analyze_altitude(flight_data):\n",
    "    \"\"\"\n",
    "    Analyzes the altitude data of the flight.\n",
    "    \n",
    "    Args:\n",
    "        flight_data (pandas.DataFrame): The flight data containing 'altitude' column.\n",
    "    \n",
    "    Returns:\n",
    "        dict: A dictionary containing max, min, and average altitude.\n",
    "    \"\"\"\n",
    "    max_altitude = flight_data['altitude'].max()\n",
    "    min_altitude = flight_data['altitude'].min()\n",
    "    avg_altitude = flight_data['altitude'].mean()\n",
    "    \n",
    "    return {'max_altitude': max_altitude, 'min_altitude': min_altitude, 'avg_altitude': avg_altitude}"
   ]
  },
  {
   "cell_type": "code",
   "execution_count": null,
   "metadata": {},
   "outputs": [],
   "source": [
    "def estimate_route_complexity(flight_data, change_threshold=20):\n",
    "    \"\"\"\n",
    "    Estimates the route complexity by counting the number of significant directional changes.\n",
    "    \n",
    "    Args:\n",
    "        flight_data (pandas.DataFrame): The flight data containing 'latitude' and 'longitude' columns.\n",
    "        change_threshold (int): The change in bearing considered significant, in degrees.\n",
    "    \n",
    "    Returns:\n",
    "        int: The estimated route complexity, defined by the number of significant turns.\n",
    "    \"\"\"\n",
    "    num_turns = 0\n",
    "    last_bearing = None\n",
    "    \n",
    "    for i in range(1, len(flight_data)):\n",
    "        prev_point = (flight_data.iloc[i - 1]['latitude'], flight_data.iloc[i - 1]['longitude'])\n",
    "        current_point = (flight_data.iloc[i]['latitude'], flight_data.iloc[i]['longitude'])\n",
    "        \n",
    "        # Calculate bearing between consecutive points\n",
    "        delta_lon = np.radians(current_point[1] - prev_point[1])\n",
    "        y = np.sin(delta_lon) * np.cos(np.radians(current_point[0]))\n",
    "        x = np.cos(np.radians(prev_point[0])) * np.sin(np.radians(current_point[0])) - \\\n",
    "            np.sin(np.radians(prev_point[0])) * np.cos(np.radians(current_point[0])) * np.cos(delta_lon)\n",
    "        current_bearing = np.degrees(np.arctan2(y, x)) % 360\n",
    "        \n",
    "        if last_bearing is not None:\n",
    "            bearing_change = abs(current_bearing - last_bearing)\n",
    "            bearing_change = min(bearing_change, 360 - bearing_change)  # Correct for angular wraparound\n",
    "            if bearing_change > change_threshold:\n",
    "                num_turns += 1\n",
    "        \n",
    "        last_bearing = current_bearing\n",
    "    \n",
    "    return num_turns"
   ]
  },
  {
   "cell_type": "markdown",
   "metadata": {},
   "source": [
    "### Anaylse Duration, Altitude, and Route Complexity for each flight"
   ]
  },
  {
   "cell_type": "code",
   "execution_count": null,
   "metadata": {},
   "outputs": [],
   "source": [
    "# Initialize a dictionary to store the results\n",
    "results = {}\n",
    "\n",
    "# Iterating through each flight in the dataset\n",
    "for flight_id, flight in datas.items():\n",
    "    \n",
    "    # Access the DataFrame directly\n",
    "    flight_data = flight.data  # Since it's already a DataFrame\n",
    "    \n",
    "    # Ensure the DataFrame is not empty\n",
    "    if not flight_data.empty:\n",
    "        # Calculate flight duration\n",
    "        duration = calculate_duration(flight_data)\n",
    "\n",
    "        # Analyze altitude data\n",
    "        altitude_info = analyze_altitude(flight_data)\n",
    "\n",
    "        # Estimate route complexity\n",
    "        complexity = estimate_route_complexity(flight_data)  # Make sure this function is defined and adapted to your data structure\n",
    "\n",
    "        # Store the results for the current flight\n",
    "        results[flight_id] = {\n",
    "            'duration': duration,\n",
    "            'max_altitude': altitude_info['max_altitude'],\n",
    "            'min_altitude': altitude_info['min_altitude'],\n",
    "            'avg_altitude': altitude_info['avg_altitude'],\n",
    "            'route_complexity': complexity\n",
    "        }\n",
    "    else:\n",
    "        print(f\"Warning: No data available for flight {flight_id}\")\n",
    "\n",
    "# Print out the results for each flight\n",
    "for flight_id, metrics in results.items():\n",
    "    print(f\"Flight ID: {flight_id}\")\n",
    "    print(f\"Duration: {metrics['duration']}\")\n",
    "    print(f\"Max Altitude: {metrics['max_altitude']} meters\")\n",
    "    print(f\"Min Altitude: {metrics['min_altitude']} meters\")\n",
    "    print(f\"Average Altitude: {metrics['avg_altitude']} meters\")\n",
    "    print(f\"Route Complexity (number of significant turns): {metrics['route_complexity']}\")\n",
    "    print(\"---------------------------------------------------------\")"
   ]
  },
  {
   "cell_type": "markdown",
   "metadata": {},
   "source": [
    "### Plot the graph"
   ]
  },
  {
   "cell_type": "code",
   "execution_count": null,
   "metadata": {},
   "outputs": [],
   "source": [
    "# Prepare lists for plotting\n",
    "flight_ids = list(results.keys())\n",
    "durations = [result['duration'].total_seconds()/3600 for result in results.values()]  # Convert duration to hours\n",
    "max_altitudes = [result['max_altitude'] for result in results.values()]\n",
    "min_altitudes = [result['min_altitude'] for result in results.values()]\n",
    "avg_altitudes = [result['avg_altitude'] for result in results.values()]\n",
    "route_complexities = [result['route_complexity'] for result in results.values()]\n",
    "\n",
    "# Plotting\n",
    "plt.figure(figsize=(14, 8))\n",
    "\n",
    "# Plot for flight duration\n",
    "plt.subplot(2, 2, 1)  # 2 rows, 2 columns, 1st subplot\n",
    "plt.bar(flight_ids, durations, color='skyblue')\n",
    "plt.title('Flight Duration (Hours)')\n",
    "plt.xticks(rotation=90)\n",
    "\n",
    "# Plot for maximum altitude\n",
    "plt.subplot(2, 2, 2)  # 2 rows, 2 columns, 2nd subplot\n",
    "plt.bar(flight_ids, max_altitudes, color='lightgreen')\n",
    "plt.title('Maximum Altitude (Meters)')\n",
    "plt.xticks(rotation=90)\n",
    "\n",
    "# Plot for average altitude\n",
    "plt.subplot(2, 2, 3)  # 2 rows, 2 columns, 3rd subplot\n",
    "plt.bar(flight_ids, avg_altitudes, color='salmon')\n",
    "plt.title('Average Altitude (Meters)')\n",
    "plt.xticks(rotation=90)\n",
    "\n",
    "# Plot for route complexity\n",
    "plt.subplot(2, 2, 4)  # 2 rows, 2 columns, 4th subplot\n",
    "plt.bar(flight_ids, route_complexities, color='gold')\n",
    "plt.title('Route Complexity (Number of Significant Turns)')\n",
    "plt.xticks(rotation=90)\n",
    "\n",
    "# Adjust layout to prevent overlap\n",
    "plt.tight_layout()\n",
    "\n",
    "# Show the plots\n",
    "plt.show()"
   ]
  },
  {
   "cell_type": "markdown",
   "metadata": {},
   "source": [
    "# Plot Functions"
   ]
  },
  {
   "cell_type": "code",
   "execution_count": null,
   "metadata": {},
   "outputs": [],
   "source": [
    "def plot_actual_radar_all(actual_data, radar_data, \n",
    "                          n_minor_ticks_x=0, n_minor_ticks_longitude=0, \n",
    "                          n_minor_ticks_latitude=0, \n",
    "                          actual_data_label_latitude='Latitude (Actual)', radar_data_label_latitude='Latitude (Radar)',\n",
    "                          actual_data_label_longitude='Longitude (Actual)', radar_data_label_longitude='Longitude (Radar)'):\n",
    "    \"\"\"Plots a graph of longitude, latitude against time for both actual and radar flight data.\n",
    "\n",
    "    Args:\n",
    "        actual_data (panda.DataFrame): The actual data to be plotted\n",
    "        radar_data (panda.DataFrame): The radar data to be plotted\n",
    "        n_minor_ticks_x (integer): The number of minor axis intervals for time axis\n",
    "        n_minor_ticks_longitude (integer): The number of minor axis intervals for longitude axis\n",
    "        n_minor_ticks_latitude (integer): The number of minor axis intervals for latitude axis\n",
    "        actual_data_label_latitude (string): Label for actual data (Latitude) \n",
    "        radar_data_label_latitude (string): Label for radar data (Latitude)\n",
    "        actual_data_label_longitude (string): Label for actual data (Longitude) \n",
    "        radar_data_label_longitude (string): Label for radar data (Longitude) \n",
    "    \"\"\"\n",
    "    # Plotting\n",
    "    fig, ax1 = plt.subplots()\n",
    "\n",
    "    # Set the x-axis as the timestamp\n",
    "    ax1.xaxis.set_major_formatter(mdates.DateFormatter('%H:%M'))\n",
    "    ax1.set_xlabel('Time')\n",
    "    ax1.set_ylabel('Latitude', color='tab:red')\n",
    "    ax1.plot(actual_data['timestamp'], actual_data['latitude'], color='tab:red', label=actual_data_label_latitude)\n",
    "    ax1.plot(radar_data['timestamp'], radar_data['latitude'], color='tab:pink', label=radar_data_label_latitude, linestyle='--')\n",
    "    ax1.tick_params(axis='y', labelcolor='tab:red')\n",
    "\n",
    "    # Create a second y-axis for longitude\n",
    "    ax2 = ax1.twinx()\n",
    "    ax2.set_ylabel('Longitude', color='tab:blue')\n",
    "    ax2.plot(actual_data['timestamp'], actual_data['longitude'], color='tab:blue', label=actual_data_label_longitude)\n",
    "    ax2.plot(radar_data['timestamp'], radar_data['longitude'], color='tab:cyan', label=radar_data_label_longitude, linestyle='--')\n",
    "    ax2.tick_params(axis='y', labelcolor='tab:blue')\n",
    "\n",
    "    # Add a title\n",
    "    plt.title('Latitude and Longitude over Time')\n",
    "\n",
    "    # Show legends\n",
    "    ax1.legend(loc='upper left')\n",
    "    ax2.legend(loc='upper right')\n",
    "\n",
    "    # Set minor ticks between the major ticks\n",
    "    ax1.xaxis.set_minor_locator(AutoMinorLocator(n_minor_ticks_x))\n",
    "    ax1.yaxis.set_minor_locator(AutoMinorLocator(n_minor_ticks_latitude))\n",
    "    ax2.yaxis.set_minor_locator(AutoMinorLocator(n_minor_ticks_longitude)) \n",
    "\n",
    "    # Color of the minor ticks\n",
    "    ax1.tick_params(axis='y', which='minor', color='tab:red')\n",
    "    ax2.tick_params(axis='y', which='minor', color='tab:blue')\n",
    "\n",
    "    # Add vertical grid lines to the plot\n",
    "    ax1.grid(True, which='both', axis='x', linestyle='--', linewidth=0.5)\n",
    "\n",
    "    # Add horizontal grid lines to the plot for latitude\n",
    "    ax1.grid(True, which='both', axis='y', linestyle='--', linewidth=0.5, color='tab:red', alpha=0.5)\n",
    "\n",
    "    # Add horizontal grid lines to the plot for longitude\n",
    "    ax2.grid(True, which='both', axis='y', linestyle='--', linewidth=0.5, color='tab:blue', alpha=0.5)\n",
    "\n",
    "    plt.show()"
   ]
  },
  {
   "cell_type": "code",
   "execution_count": null,
   "metadata": {},
   "outputs": [],
   "source": [
    "def plot_actual_radar_latitude(actual_data, radar_data, \n",
    "                               n_minor_ticks_x=0, n_minor_ticks_latitude=0,\n",
    "                               actual_data_label_latitude='Latitude (Actual)', radar_data_label_latitude='Latitude (Radar)'):\n",
    "    \"\"\"Plots a graph of latitude against time for both actual and radar flight data.\n",
    "\n",
    "    Args:\n",
    "        actual_data (panda.DataFrame): The actual data to be plotted\n",
    "        radar_data (panda.DataFrame): The radar data to be plotted\n",
    "        n_minor_ticks_x (integer): The number of minor axis intervals for time axis\n",
    "        n_minor_ticks_latitude (integer): The number of minor axis intervals for latitude axis\n",
    "        actual_data_label_latitude (string): Label for actual data (Latitude) \n",
    "        radar_data_label_latitude (string): Label for radar data (Latitude)\n",
    "    \"\"\"\n",
    "    # Plotting\n",
    "    fig, ax1 = plt.subplots()\n",
    "\n",
    "    # Set the x-axis as the timestamp\n",
    "    ax1.xaxis.set_major_formatter(mdates.DateFormatter('%H:%M'))\n",
    "    ax1.set_xlabel('Time')\n",
    "    ax1.set_ylabel('Latitude', color='tab:red')\n",
    "    ax1.plot(actual_data['timestamp'], actual_data['latitude'], color='tab:red', label=actual_data_label_latitude)\n",
    "    ax1.plot(radar_data['timestamp'], radar_data['latitude'], color='tab:pink', label=radar_data_label_latitude, linestyle='--')\n",
    "    ax1.tick_params(axis='y', labelcolor='tab:red')\n",
    "    \n",
    "    # Add a title\n",
    "    plt.title('Latitude over Time')\n",
    "\n",
    "    # Show legends\n",
    "    ax1.legend(loc='upper left')\n",
    "\n",
    "    # Set minor ticks between the major ticks\n",
    "    ax1.xaxis.set_minor_locator(AutoMinorLocator(n_minor_ticks_x))\n",
    "    ax1.yaxis.set_minor_locator(AutoMinorLocator(n_minor_ticks_latitude))\n",
    "\n",
    "    # Color of the minor ticks\n",
    "    ax1.tick_params(axis='y', which='minor', color='tab:red')\n",
    "\n",
    "    # Add vertical grid lines to the plot\n",
    "    ax1.grid(True, which='both', axis='x', linestyle='--', linewidth=0.5)\n",
    "\n",
    "    # Add horizontal grid lines to the plot for latitude\n",
    "    ax1.grid(True, which='both', axis='y', linestyle='--', linewidth=0.5, color='tab:red', alpha=0.5)\n",
    "\n",
    "    plt.show()"
   ]
  },
  {
   "cell_type": "code",
   "execution_count": null,
   "metadata": {},
   "outputs": [],
   "source": [
    "def plot_actual_radar_longitude(actual_data, radar_data, \n",
    "                                n_minor_ticks_x=0, n_minor_ticks_longitude=0,\n",
    "                                actual_data_label_longitude='Longitude (Actual)', radar_data_label_longitude='Longitude (Radar)'):\n",
    "    \"\"\"Plots a graph of longitude against time for both actual and radar flight data.\n",
    "\n",
    "    Args:\n",
    "        actual_data (panda.DataFrame): The actual data to be plotted\n",
    "        radar_data (panda.DataFrame): The radar data to be plotted\n",
    "        n_minor_ticks_x (integer): The number of minor axis intervals for time axis\n",
    "        n_minor_ticks_longitude (integer): The number of minor axis intervals for longitude axis\n",
    "        actual_data_label_longitude='Longitude (Actual)', radar_data_label_longitude='Longitude (Radar)'\n",
    "        actual_data_label_longitude (string): Label for actual data (Longitude) \n",
    "        radar_data_label_longitude (string): Label for radar data (Longitude) \n",
    "    \"\"\"\n",
    "    # Plotting\n",
    "    fig, ax1 = plt.subplots()\n",
    "\n",
    "    # Set the x-axis as the timestamp\n",
    "    ax1.xaxis.set_major_formatter(mdates.DateFormatter('%H:%M'))\n",
    "    ax1.set_xlabel('Time')\n",
    "    ax1.set_ylabel('Longitude', color='tab:red')\n",
    "    ax1.plot(actual_data['timestamp'], actual_data['longitude'], color='tab:red', label=actual_data_label_longitude)\n",
    "    ax1.plot(radar_data['timestamp'], radar_data['longitude'], color='tab:pink', label=radar_data_label_longitude, linestyle='--')\n",
    "    ax1.tick_params(axis='y', labelcolor='tab:red')\n",
    "\n",
    "    # Add a title\n",
    "    plt.title('Longitude over Time')\n",
    "\n",
    "    # Show legends\n",
    "    ax1.legend(loc='upper left')\n",
    "\n",
    "    # Set minor ticks between the major ticks\n",
    "    ax1.xaxis.set_minor_locator(AutoMinorLocator(n_minor_ticks_x))\n",
    "    ax1.yaxis.set_minor_locator(AutoMinorLocator(n_minor_ticks_longitude))\n",
    "\n",
    "    # Color of the minor ticks\n",
    "    ax1.tick_params(axis='y', which='minor', color='tab:blue')\n",
    "\n",
    "    # Add vertical grid lines to the plot\n",
    "    ax1.grid(True, which='both', axis='x', linestyle='--', linewidth=0.5)\n",
    "\n",
    "    # Add horizontal grid lines to the plot for longitude\n",
    "    ax1.grid(True, which='both', axis='y', linestyle='--', linewidth=0.5, color='tab:red', alpha=0.5)\n",
    "\n",
    "    plt.show()"
   ]
  },
  {
   "cell_type": "markdown",
   "metadata": {},
   "source": [
    "# Kalman Filtering"
   ]
  },
  {
   "cell_type": "markdown",
   "metadata": {},
   "source": [
    "### Define Kalman Filter Parameters"
   ]
  },
  {
   "cell_type": "code",
   "execution_count": null,
   "metadata": {},
   "outputs": [],
   "source": [
    "def construct_kalman_filter(radar_data, delta_time=10):\n",
    "    \"\"\"Takes the radar data and defines the kalman filter model for the radar model\n",
    "\n",
    "    Args:\n",
    "        radar_data (pandas.DataFrame): Radar data to be used for constructing the Kalman Filter model.\n",
    "        delta_time (int, optional): The time between each sampling. Defaults to 10.\n",
    "    \"\"\"\n",
    "\n",
    "    dim_x = 4\n",
    "    dim_z = 2\n",
    "    standard_deviation_process = 1.5  # Standard Deviation for acceleration  (Plane example)\n",
    "    standard_deviation_observation = 3  # Standard Deviation for radar measurement\n",
    "\n",
    "    # Initialize the Kalman Filter\n",
    "    kf = KalmanFilter(dim_x, dim_z)\n",
    "\n",
    "    # Define the initial state estimate\n",
    "    initial_position = np.array([radar_data.x.iloc[0], radar_data.y.iloc[0], 0., 0.])  # Assuming initial velocity is 0\n",
    "    kf.initial_state_mean = initial_position\n",
    "\n",
    "    # Define the state transition matrix (F)\n",
    "    kf.transition_matrices = np.array([[1, 0, delta_time, 0],\n",
    "                    [0, 1, 0, delta_time],\n",
    "                    [0, 0, 1, 0],\n",
    "                    [0, 0, 0, 1]])\n",
    "\n",
    "    # Define the process noise covariance matrix (Q)\n",
    "\n",
    "    a = (1/4 * delta_time**4) * (standard_deviation_process**2)\n",
    "    b = (1/2 * delta_time**3) * (standard_deviation_process**2)\n",
    "    c = delta_time**2 * (standard_deviation_process**2)\n",
    "    kf.transition_covariance = np.array(\n",
    "                    [[a, 0, b, 0],\n",
    "                    [0, a, 0, b],\n",
    "                    [b, 0, c, 0],\n",
    "                    [0, b, 0, c]])\n",
    "\n",
    "    # Define the observation matrix (H)\n",
    "    kf.observation_matrices = np.array([[1, 0, 0, 0],\n",
    "                    [0, 1, 0, 0]]) \n",
    "\n",
    "    # Define the measurement noise covariance matrix (R)\n",
    "    kf.observation_covariance = np.array([[standard_deviation_observation**2, 0],\n",
    "                    [0, standard_deviation_observation**2]])\n",
    "    \n",
    "    \n",
    "    \n",
    "    return kf"
   ]
  },
  {
   "cell_type": "markdown",
   "metadata": {},
   "source": [
    "### Applying Kalman Filter on a random selection of flight IDs, on the entire duration of the flight "
   ]
  },
  {
   "cell_type": "code",
   "execution_count": null,
   "metadata": {},
   "outputs": [],
   "source": [
    "# Randomly select flight IDs from your dataset\n",
    "selected_flight_ids = random.sample(list(datas.keys()), 5)  # Change 5 to the desired number of flights\n",
    "\n",
    "# Dictionary to store results for analysis\n",
    "experiment_results = {}\n",
    "\n",
    "# Loop through each selected flight ID\n",
    "for flight_id in selected_flight_ids:\n",
    "    print(f\"Processing flight: {flight_id}\")\n",
    "    flight = deepcopy(datas[flight_id])  # Make a deep copy of the flight data to avoid altering the original \n",
    "\n",
    "    actual_data = flight.data\n",
    "\n",
    "    # Ensure the flight exists and has data\n",
    "    if flight is None or flight.data.empty:\n",
    "        print(f\"Skipping flight {flight_id} due to missing or empty data.\")\n",
    "        continue\n",
    "            \n",
    "    # Generate radar data for the same time range and ensure it exists\n",
    "    radar_data = get_radar_data_for_flight(flight).data\n",
    "    if radar_data.empty:\n",
    "        print(f\"Skipping flight {flight_id} due to lack of radar data.\")\n",
    "        continue\n",
    "\n",
    "    # Construct and apply the Kalman filter based on radar data\n",
    "    kf = construct_kalman_filter(radar_data) \n",
    "    radar_measurements = np.column_stack((radar_data.x, radar_data.y))  \n",
    "    filtered_state_means, filtered_state_covariances = kf.filter(radar_measurements)\n",
    "   \n",
    "    # Apply smoothing to the Kalman filter\n",
    "    smoothed_state_means, smoothed_state_covariances = kf.smooth(radar_measurements)\n",
    "\n",
    "    # Only proceed if length of radar_data, fitlered_state_means and smoothed_state_means match; this is to ensure that each data set corresponds to the same number of time points\n",
    "    # filtered_state_means is a 2D array that holds the estimated states and velocities for each time point after applying the Kalman filter. \n",
    "    # these state estimates are generated based on the noisy radar data and represents an estimate that aims to be closer to the true flight path \n",
    "    # smoothed_state_means contains an improved estimate of the flight's position by considering future and past observations\n",
    "    # we need to apply the filtered estimates back into the context of the original flight's data structure --> we need to replace the original noisy radar positions with the filtered estimates \n",
    "    if len(radar_data) == len(filtered_state_means) and len(radar_data) == len(smoothed_state_means):\n",
    "       # Create two separate deep copies for filtered and smoothed data updates\n",
    "        filtered_flight_data = deepcopy(flight.data)\n",
    "        smoothed_flight_data = deepcopy(flight.data)\n",
    "\n",
    "        # Update 'x', 'y' in the deep copies based on filtered/smoothed values\n",
    "        for idx, _ in enumerate(filtered_state_means):  # Use enumerate to get the index\n",
    "            if idx in flight.data.index:\n",
    "                # Update for filtered states\n",
    "                filtered_flight_data.at[idx, 'x'] = filtered_state_means[idx, 0]\n",
    "                filtered_flight_data.at[idx, 'y'] = filtered_state_means[idx, 1]\n",
    "                \n",
    "                # Update for smoothed states\n",
    "                smoothed_flight_data.at[idx, 'x'] = smoothed_state_means[idx, 0]\n",
    "                smoothed_flight_data.at[idx, 'y'] = smoothed_state_means[idx, 1]\n",
    "\n",
    "        # Convert updated x, y back to lat, lon for both filtered and smoothed data\n",
    "        filtered_flight = deepcopy(flight)\n",
    "        filtered_flight.data = filtered_flight_data\n",
    "        set_lat_lon_from_x_y(filtered_flight) # This is to convert the cartesian (x,y) coordiantes into lat and lon\n",
    "\n",
    "        smoothed_flight = deepcopy(flight)\n",
    "        smoothed_flight.data = smoothed_flight_data\n",
    "        set_lat_lon_from_x_y(smoothed_flight)\n",
    "        \n",
    "        # Store the filtering results for further analysis\n",
    "        experiment_results[flight_id] = {\n",
    "            'actual_data': actual_data, \n",
    "            'radar_data': radar_data,\n",
    "            'filtered_means': filtered_flight.data,\n",
    "            'smoothed_means': smoothed_flight.data\n",
    "    }\n",
    "    "
   ]
  },
  {
   "cell_type": "markdown",
   "metadata": {},
   "source": [
    "To view the contents of `experiment_results` for each flight_id: "
   ]
  },
  {
   "cell_type": "code",
   "execution_count": null,
   "metadata": {},
   "outputs": [],
   "source": [
    "for flight_id, results in experiment_results.items():\n",
    "    print(f\"Results for Flight ID: {flight_id}\")\n",
    "    print(\"Actual Data:\")\n",
    "    print(results['actual_data'])\n",
    "    print(\"Radar Data:\")\n",
    "    print(results['radar_data'])\n",
    "    print(\"Filtered Means:\")\n",
    "    print(results['filtered_means'])\n",
    "    print(\"Smoothed Means:\")\n",
    "    print(results['smoothed_means'])\n",
    "    print(\"\\n\")  \n"
   ]
  },
  {
   "cell_type": "markdown",
   "metadata": {},
   "source": [
    "# Data Visualisation"
   ]
  },
  {
   "cell_type": "markdown",
   "metadata": {},
   "source": [
    "Task 3: Plotting radar-simulated data against the original flight data to observe the difference "
   ]
  },
  {
   "cell_type": "code",
   "execution_count": null,
   "metadata": {},
   "outputs": [],
   "source": [
    "plot_actual_radar_longitude(actual_data, radar_data, 5, 5)"
   ]
  },
  {
   "cell_type": "code",
   "execution_count": null,
   "metadata": {},
   "outputs": [],
   "source": [
    "plot_actual_radar_latitude(actual_data, radar_data, 5, 5)"
   ]
  },
  {
   "cell_type": "code",
   "execution_count": null,
   "metadata": {},
   "outputs": [],
   "source": [
    "plot_actual_radar_all(actual_data, radar_data, 5, 5, 5)"
   ]
  },
  {
   "cell_type": "markdown",
   "metadata": {},
   "source": [
    "### TASK 5: Plot filtered position estimates alongisde the original track "
   ]
  },
  {
   "cell_type": "code",
   "execution_count": null,
   "metadata": {},
   "outputs": [],
   "source": [
    "plot_actual_radar_latitude(actual_data, filtered_flight_data, 5, 5, radar_data_label_latitude=\"Latitude (Filtered)\")"
   ]
  },
  {
   "cell_type": "code",
   "execution_count": null,
   "metadata": {},
   "outputs": [],
   "source": [
    "plot_actual_radar_longitude(actual_data, filtered_flight_data, 5, 5, radar_data_label_longitude=\"Longitude (Filtered)\")"
   ]
  },
  {
   "cell_type": "code",
   "execution_count": null,
   "metadata": {},
   "outputs": [],
   "source": [
    "plot_actual_radar_all(actual_data, filtered_flight_data, 5, 5, radar_data_label_longitude= \"Longitude (Filtered)\", radar_data_label_latitude=\"Latitude (Filtered)\")"
   ]
  },
  {
   "cell_type": "markdown",
   "metadata": {},
   "source": [
    "# Error Measurement and Model Evaluation"
   ]
  },
  {
   "cell_type": "markdown",
   "metadata": {},
   "source": [
    "### Define Function for calculating mean and maximum distance"
   ]
  },
  {
   "cell_type": "code",
   "execution_count": null,
   "metadata": {},
   "outputs": [],
   "source": [
    "def calculate_mean_max_distance(data_1, data_2):\n",
    "    \"\"\"returns (mean distance, max distance) of two geo coordinated data.  \n",
    "\n",
    "    Args:\n",
    "        data_1 (pandas.DataFrame): DataFrame of tuples with 'latitude' and 'longitude' values\n",
    "        data_2 (pandas.DataFrame): DataFrame of tuples with 'latitude' and 'longitude' values\n",
    "    \"\"\"\n",
    "    # Initialize list to store distances\n",
    "    distances = []\n",
    "\n",
    "    # Iterate through the filtered positions and the original data\n",
    "    for (data_1_lat, data_1_lon), (data_2_lat, data_2_lon) in zip(zip(data_1.latitude, data_1.longitude), zip(data_2.latitude, data_2.longitude)):\n",
    "        if pd.isna(data_1_lat) or pd.isna(data_1_lon) or pd.isna(data_2_lat) or pd.isna(data_2_lon):\n",
    "            continue  # Skip this pair if any NaN values are found\n",
    "        # Calculate distance between filtered and original positions\n",
    "        distance = dist.geodesic((data_1_lat, data_1_lon), (data_2_lat, data_2_lon)).meters  # geodesic returns the distance in meters\n",
    "        distances.append(distance)\n",
    "\n",
    "    # Compute the mean and maximal distances\n",
    "    mean_distance = np.mean(distances)\n",
    "    max_distance = np.max(distances)\n",
    "    \n",
    "    return mean_distance, max_distance"
   ]
  },
  {
   "cell_type": "markdown",
   "metadata": {},
   "source": [
    "### TASK 6: Calculating the mean and max distance"
   ]
  },
  {
   "cell_type": "code",
   "execution_count": 205,
   "metadata": {},
   "outputs": [
    {
     "name": "stdout",
     "output_type": "stream",
     "text": [
      "Flight ID: REGA1_018\n",
      "Mean Distance: 6102.605936323984 meters\n",
      "Max Distance: 10248.618368998072 meters\n",
      "Flight ID: VHOMS_054\n",
      "Mean Distance: 856.2746710901737 meters\n",
      "Max Distance: 6464.011350103178 meters\n",
      "Flight ID: FAF4011_009\n",
      "Mean Distance: 275984.8301197562 meters\n",
      "Max Distance: 446350.6178366229 meters\n",
      "Flight ID: CALIBRA_026\n",
      "Mean Distance: 11029.914060992547 meters\n",
      "Max Distance: 29109.970302704744 meters\n",
      "Flight ID: VOR05_038\n",
      "Mean Distance: 27018.777993784268 meters\n",
      "Max Distance: 77688.65335830649 meters\n"
     ]
    }
   ],
   "source": [
    "for flight_id, results in experiment_results.items():\n",
    "    actual_data = results['actual_data']\n",
    "    filtered_data = results['filtered_means'] \n",
    "\n",
    "    mean_distance, max_distance = calculate_mean_max_distance(actual_data, filtered_data)\n",
    "    \n",
    "    print(f\"Flight ID: {flight_id}\")\n",
    "    print(f\"Mean Distance: {mean_distance} meters\")\n",
    "    print(f\"Max Distance: {max_distance} meters\")\n",
    "    "
   ]
  },
  {
   "cell_type": "markdown",
   "metadata": {},
   "source": [
    "Use smoothing to compute estimates for all states based on all the available data. How much\n",
    "better are the smoothed tracks, compared to the filtered ones? Are there specific areas in\n",
    "the flights where smoothed tracks are better?"
   ]
  },
  {
   "cell_type": "markdown",
   "metadata": {},
   "source": [
    "To evaluate how much better the smoothed tracks are compared to the filtered ones, we need to compare the average and maximum distances from the actual flight path for both the filtered and smoothed estimates.    apply this function separately for the filtered and smoothed data against the actual data, then compare these values.\n",
    "\n"
   ]
  },
  {
   "cell_type": "code",
   "execution_count": 206,
   "metadata": {},
   "outputs": [
    {
     "name": "stdout",
     "output_type": "stream",
     "text": [
      "Flight ID: REGA1_018\n",
      "Mean Filtered Distance: 6102.61 meters\n",
      "Max Filtered Distance: 10248.62 meters\n",
      "Mean Smoothed Distance: 6102.34 meters\n",
      "Max Smoothed Distance: 10217.51 meters\n",
      "--------------------------------------------------\n",
      "Flight ID: VHOMS_054\n",
      "Mean Filtered Distance: 856.27 meters\n",
      "Max Filtered Distance: 6464.01 meters\n",
      "Mean Smoothed Distance: 802.78 meters\n",
      "Max Smoothed Distance: 6156.90 meters\n",
      "--------------------------------------------------\n",
      "Flight ID: FAF4011_009\n",
      "Mean Filtered Distance: 275984.83 meters\n",
      "Max Filtered Distance: 446350.62 meters\n",
      "Mean Smoothed Distance: 275981.82 meters\n",
      "Max Smoothed Distance: 446323.34 meters\n",
      "--------------------------------------------------\n",
      "Flight ID: CALIBRA_026\n",
      "Mean Filtered Distance: 11029.91 meters\n",
      "Max Filtered Distance: 29109.97 meters\n",
      "Mean Smoothed Distance: 11029.19 meters\n",
      "Max Smoothed Distance: 29027.82 meters\n",
      "--------------------------------------------------\n",
      "Flight ID: VOR05_038\n",
      "Mean Filtered Distance: 27018.78 meters\n",
      "Max Filtered Distance: 77688.65 meters\n",
      "Mean Smoothed Distance: 27017.34 meters\n",
      "Max Smoothed Distance: 77690.43 meters\n",
      "--------------------------------------------------\n",
      "Overall Averages:\n",
      "Average Mean Distance for Filtered Data: 64198.48 meters\n",
      "Average Max Distance for Filtered Data: 113972.37 meters\n",
      "Average Mean Distance for Smoothed Data: 64186.69 meters\n",
      "Average Max Distance for Smoothed Data: 113883.20 meters\n"
     ]
    }
   ],
   "source": [
    "# we want to compare the accuracy of flight positions with actual flight data vs. filtered and smooth flight paths\n",
    "# Initialize lists to store mean and max distances for filtered and smoothed data\n",
    "filtered_distances = {'mean': [], 'max': []}\n",
    "smoothed_distances = {'mean': [], 'max': []}\n",
    "\n",
    "# Loop through each selected flight ID and calculate distances\n",
    "for flight_id, results in experiment_results.items():\n",
    "    actual_data = results['actual_data']\n",
    "    filtered_data = results['filtered_means']\n",
    "    smoothed_data = results['smoothed_means']\n",
    "\n",
    "    # Calculate distances for filtered and smoothed data\n",
    "    mean_filtered_distance, max_filtered_distance = calculate_mean_max_distance(actual_data, filtered_data)\n",
    "    mean_smoothed_distance, max_smoothed_distance = calculate_mean_max_distance(actual_data, smoothed_data)\n",
    "\n",
    "    # Store the distances\n",
    "    filtered_distances['mean'].append(mean_filtered_distance)\n",
    "    filtered_distances['max'].append(max_filtered_distance)\n",
    "    smoothed_distances['mean'].append(mean_smoothed_distance)\n",
    "    smoothed_distances['max'].append(max_smoothed_distance)\n",
    "\n",
    "    # Print out distances for the current flight\n",
    "    print(f\"Flight ID: {flight_id}\")\n",
    "    print(f\"Mean Filtered Distance: {mean_filtered_distance:.2f} meters\")\n",
    "    print(f\"Max Filtered Distance: {max_filtered_distance:.2f} meters\")\n",
    "    print(f\"Mean Smoothed Distance: {mean_smoothed_distance:.2f} meters\")\n",
    "    print(f\"Max Smoothed Distance: {max_smoothed_distance:.2f} meters\")\n",
    "    print(\"-\" * 50)  # Print a separator for readability\n",
    "\n",
    "# After the loop, compute the averages across all flights\n",
    "average_filtered_mean_distance = np.mean(filtered_distances['mean'])\n",
    "average_filtered_max_distance = np.mean(filtered_distances['max'])\n",
    "average_smoothed_mean_distance = np.mean(smoothed_distances['mean'])\n",
    "average_smoothed_max_distance = np.mean(smoothed_distances['max'])\n",
    "\n",
    "# Print out the overall averages\n",
    "print(\"Overall Averages:\")\n",
    "print(f\"Average Mean Distance for Filtered Data: {average_filtered_mean_distance:.2f} meters\")\n",
    "print(f\"Average Max Distance for Filtered Data: {average_filtered_max_distance:.2f} meters\")\n",
    "print(f\"Average Mean Distance for Smoothed Data: {average_smoothed_mean_distance:.2f} meters\")\n",
    "print(f\"Average Max Distance for Smoothed Data: {average_smoothed_max_distance:.2f} meters\")\n"
   ]
  },
  {
   "cell_type": "code",
   "execution_count": null,
   "metadata": {},
   "outputs": [],
   "source": [
    "# Plotting the comparison for one selected flight\n",
    "plt.figure(figsize=[15, 10])\n",
    "plt.plot(actual_data['longitude'], actual_data['latitude'], 'g-', label='Actual Path')\n",
    "plt.scatter(radar_data['longitude'], radar_data['latitude'], c='r', marker='o', label='Radar Measurements')\n",
    "plt.plot(filtered_state_means[:, 0], filtered_state_means[:, 1], 'b-', label='Filtered Path')\n",
    "plt.plot(smoothed_state_means[:, 0], smoothed_state_means[:, 1], 'c-', label='Smoothed Path')\n",
    "plt.xlabel('Longitude')\n",
    "plt.ylabel('Latitude')\n",
    "plt.legend()\n",
    "plt.title(f\"Flight Path Comparison for {flight_id}\")\n",
    "plt.show()\n"
   ]
  }
 ],
 "metadata": {
  "kernelspec": {
   "display_name": "Python 3",
   "language": "python",
   "name": "python3"
  },
  "language_info": {
   "codemirror_mode": {
    "name": "ipython",
    "version": 3
   },
   "file_extension": ".py",
   "mimetype": "text/x-python",
   "name": "python",
   "nbconvert_exporter": "python",
   "pygments_lexer": "ipython3",
   "version": "3.10.13"
  }
 },
 "nbformat": 4,
 "nbformat_minor": 2
}
